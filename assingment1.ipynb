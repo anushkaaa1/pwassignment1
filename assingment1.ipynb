{
 "cells": [
  {
   "cell_type": "markdown",
   "id": "cfc6cc96-392e-443a-b3ff-3843031f65ae",
   "metadata": {},
   "source": [
    "Q1. Write all the conventions being followed while declaring a variable.\n",
    "\n",
    "ans. (i)   Variable should not start with integer.\n",
    "     (ii)  It cannnot contain punctuation marks.\n",
    "     (iii) It cannot contain spaces.\n",
    "     (iv)  It begin with either an alphabet or underscore.\n",
    "     (v)   It should not be python reserved words."
   ]
  },
  {
   "cell_type": "markdown",
   "id": "cf3892f5-9943-4654-94ba-4edc81315d1b",
   "metadata": {},
   "source": [
    "Q2. What will happen if we declare a restricted keyword as a variable?\n",
    "\n",
    "ans. It will give syntax error."
   ]
  },
  {
   "cell_type": "markdown",
   "id": "8ebe2cca-e3f1-4dd1-802a-21699a9d8f32",
   "metadata": {},
   "source": [
    "Q3. Can we actually declare a string as a variable name?\n",
    "\n",
    "ans. Yes,we declare a string as a variable name but name cannot contain space. It begin with either underscore or alphabet."
   ]
  },
  {
   "cell_type": "markdown",
   "id": "aada44d9-d59d-4b7b-ad14-2273f8603ccb",
   "metadata": {},
   "source": [
    "Q4. Is it possible for us to declare \"_\" as a variable ? If so,  then write an example of it.\n",
    "\n",
    "ans. Yes, it is possible for us to declare underscore \"_\" as a variable. For example - "
   ]
  },
  {
   "cell_type": "code",
   "execution_count": 3,
   "id": "ae606dc6-2b2c-459f-b90b-e8215edc87e0",
   "metadata": {},
   "outputs": [
    {
     "name": "stdout",
     "output_type": "stream",
     "text": [
      "12\n"
     ]
    }
   ],
   "source": [
    " _ = 12\n",
    " print(_)   "
   ]
  },
  {
   "cell_type": "markdown",
   "id": "eea63de1-2b73-481d-965b-72a9c9bb2926",
   "metadata": {},
   "source": [
    "Q5. Using an example, explain how the variable in python are dynamic in nature?\n",
    "\n",
    "ans. Example - "
   ]
  },
  {
   "cell_type": "code",
   "execution_count": 4,
   "id": "962afd21-b2f3-4927-b5b5-453bc798443a",
   "metadata": {},
   "outputs": [
    {
     "name": "stdout",
     "output_type": "stream",
     "text": [
      "20\n"
     ]
    }
   ],
   "source": [
    "x = 20 \n",
    "print(x)"
   ]
  },
  {
   "cell_type": "code",
   "execution_count": 7,
   "id": "3a914161-251d-4ed8-b45d-d87c8d78e733",
   "metadata": {},
   "outputs": [
    {
     "name": "stdout",
     "output_type": "stream",
     "text": [
      "seven\n"
     ]
    }
   ],
   "source": [
    "x = \"seven\"\n",
    "print(x)"
   ]
  },
  {
   "cell_type": "markdown",
   "id": "05eb9d12-abbc-4e44-a1b4-cce823985acd",
   "metadata": {},
   "source": [
    "Above example, we see that first assign 20 to x and then string \"seven\" to x. In both case it will give that value as output  which is assigned later. That is why variables in python are dynamic in nature. "
   ]
  },
  {
   "cell_type": "code",
   "execution_count": null,
   "id": "dca68de4-77c4-4932-b55b-a7dfb3d53f2a",
   "metadata": {},
   "outputs": [],
   "source": []
  }
 ],
 "metadata": {
  "kernelspec": {
   "display_name": "Python 3 (ipykernel)",
   "language": "python",
   "name": "python3"
  },
  "language_info": {
   "codemirror_mode": {
    "name": "ipython",
    "version": 3
   },
   "file_extension": ".py",
   "mimetype": "text/x-python",
   "name": "python",
   "nbconvert_exporter": "python",
   "pygments_lexer": "ipython3",
   "version": "3.10.8"
  }
 },
 "nbformat": 4,
 "nbformat_minor": 5
}
